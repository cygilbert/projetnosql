{
 "cells": [
  {
   "cell_type": "code",
   "execution_count": 1,
   "metadata": {
    "collapsed": true
   },
   "outputs": [],
   "source": [
    "import time\n",
    "from pyspark.sql import SQLContext, Row, HiveContext\n",
    "from pyspark.sql.window import Window\n",
    "import pyspark.sql.functions as F\n",
    "from pyspark.sql.types import FloatType\n",
    "import pandas as pd"
   ]
  },
  {
   "cell_type": "markdown",
   "metadata": {},
   "source": [
    "24 heures"
   ]
  },
  {
   "cell_type": "code",
   "execution_count": 2,
   "metadata": {
    "collapsed": true
   },
   "outputs": [],
   "source": [
    "hc = HiveContext(sc)"
   ]
  },
  {
   "cell_type": "code",
   "execution_count": 3,
   "metadata": {
    "collapsed": true
   },
   "outputs": [],
   "source": [
    "wikipediadata = hc.read.format(\"org.apache.spark.sql.cassandra\").\\\n",
    "               load(keyspace=\"projet\", table=\"wikipediadata\")"
   ]
  },
  {
   "cell_type": "code",
   "execution_count": 5,
   "metadata": {
    "collapsed": true
   },
   "outputs": [],
   "source": [
    "day = 60"
   ]
  },
  {
   "cell_type": "code",
   "execution_count": 104,
   "metadata": {
    "collapsed": true
   },
   "outputs": [],
   "source": [
    "t0 = time.time()"
   ]
  },
  {
   "cell_type": "code",
   "execution_count": 6,
   "metadata": {
    "collapsed": false
   },
   "outputs": [
    {
     "data": {
      "text/plain": [
       "DataFrame[projectcode: string, page: string, day: int, hour: int, views: bigint]"
      ]
     },
     "execution_count": 6,
     "metadata": {},
     "output_type": "execute_result"
    }
   ],
   "source": [
    "# On veut les 24 dernieres heures de day\n",
    "sums = wikipediadata.where(wikipediadata.day == day)\n",
    "# Sous-ensemble de test\n",
    "sums = sums.where((sums.page == 'Cadillac_Brougham') | ((sums.page == 'Roald_Dahl') & (sums.projectcode == 'fr')))\n",
    "\n",
    "# On cache pour plus tard\n",
    "sums.cache()"
   ]
  },
  {
   "cell_type": "code",
   "execution_count": 7,
   "metadata": {
    "collapsed": false
   },
   "outputs": [],
   "source": [
    "# on définit une windows := heure précédente\n",
    "window_spec = \\\n",
    "    Window \\\n",
    "        .partitionBy(sums.projectcode, sums.page) \\\n",
    "        .orderBy(sums.hour.asc()) \\\n",
    "        .rowsBetween(-1, -1)"
   ]
  },
  {
   "cell_type": "code",
   "execution_count": 8,
   "metadata": {
    "collapsed": false
   },
   "outputs": [],
   "source": [
    "# on calcule la différence entre views(h) - views(h-1)\n",
    "diffs = sums.withColumn('diff', sums.views - F.sum(sums.views).over(window_spec))"
   ]
  },
  {
   "cell_type": "code",
   "execution_count": 10,
   "metadata": {
    "collapsed": false
   },
   "outputs": [],
   "source": [
    "# on calcule les coefs à appliquer à chaque jour\n",
    "coefs = pd.DataFrame({'hour': range(24)})\n",
    "coefs['coef'] = 1. / (24. - coefs.hour)\n",
    "\n",
    "coefs = hc.createDataFrame(coefs)\n",
    "diffs = diffs.join(coefs, 'hour')"
   ]
  },
  {
   "cell_type": "code",
   "execution_count": 11,
   "metadata": {
    "collapsed": false
   },
   "outputs": [],
   "source": [
    "# on calcul le score de chaque jour\n",
    "diffs = diffs.withColumn('sub_score', diffs.diff * diffs.coef)"
   ]
  },
  {
   "cell_type": "code",
   "execution_count": 81,
   "metadata": {
    "collapsed": false
   },
   "outputs": [],
   "source": [
    "totals = diffs.groupby('projectcode', 'page').sum('views', 'sub_score')\n",
    "# on normalise par la racine de la somme des views \n",
    "totals = totals.withColumn('score', totals['SUM(sub_score)'] / F.sqrt(totals['SUM(views)'])) \\\n",
    "        .orderBy(F.desc('score')) \\\n",
    "        .withColumnRenamed('SUM(views)', 'total_views') \\\n",
    "        .limit(10)"
   ]
  },
  {
   "cell_type": "code",
   "execution_count": 83,
   "metadata": {
    "collapsed": false
   },
   "outputs": [],
   "source": [
    "views = sums.select('projectcode', 'page', 'hour', 'views') \\\n",
    "        .join(totals.select('projectcode', 'page', 'total_views', 'score'), \n",
    "              (totals.projectcode == sums.projectcode) & (totals.page == sums.page), 'right_outer')"
   ]
  },
  {
   "cell_type": "code",
   "execution_count": 85,
   "metadata": {
    "collapsed": false
   },
   "outputs": [],
   "source": [
    "df = totals.select('projectcode', 'page', 'total_views', 'score').toPandas()"
   ]
  },
  {
   "cell_type": "code",
   "execution_count": 86,
   "metadata": {
    "collapsed": false
   },
   "outputs": [],
   "source": [
    "df2 = views.toPandas()"
   ]
  },
  {
   "cell_type": "code",
   "execution_count": 87,
   "metadata": {
    "collapsed": false
   },
   "outputs": [],
   "source": [
    "df2 = df2.iloc[:, 2:]"
   ]
  },
  {
   "cell_type": "code",
   "execution_count": 93,
   "metadata": {
    "collapsed": false
   },
   "outputs": [],
   "source": [
    "df2 = df2.pivot_table(values='views', columns=['hour'], index=['projectcode', 'page'], fill_value=0)"
   ]
  },
  {
   "cell_type": "code",
   "execution_count": 96,
   "metadata": {
    "collapsed": false
   },
   "outputs": [],
   "source": [
    "df = df.merge(df2, left_on=['projectcode', 'page'], right_index=True)"
   ]
  },
  {
   "cell_type": "code",
   "execution_count": 103,
   "metadata": {
    "collapsed": false
   },
   "outputs": [],
   "source": [
    "df.to_csv('day_{}_24htrending.csv'.format(day), index=False)"
   ]
  },
  {
   "cell_type": "code",
   "execution_count": null,
   "metadata": {
    "collapsed": false
   },
   "outputs": [],
   "source": [
    "# on calcule la différence entre views jour courant - views jour précédent\n",
    "t1 = time.time()"
   ]
  },
  {
   "cell_type": "code",
   "execution_count": null,
   "metadata": {
    "collapsed": true
   },
   "outputs": [],
   "source": [
    "d = t1-t0\n",
    "m = int(d // 60)\n",
    "s = int(d % 60)\n",
    "with open('/home/ubuntu/projetnosql/log_time', 'a') as f:\n",
    "    f.write('day {} written in {} min and {} sec'.format(day, m, s))"
   ]
  }
 ],
 "metadata": {
  "kernelspec": {
   "display_name": "Python 2",
   "language": "python",
   "name": "python2"
  },
  "language_info": {
   "codemirror_mode": {
    "name": "ipython",
    "version": 2
   },
   "file_extension": ".py",
   "mimetype": "text/x-python",
   "name": "python",
   "nbconvert_exporter": "python",
   "pygments_lexer": "ipython2",
   "version": "2.7.11"
  }
 },
 "nbformat": 4,
 "nbformat_minor": 0
}
